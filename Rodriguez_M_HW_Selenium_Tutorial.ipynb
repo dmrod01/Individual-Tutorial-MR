{
 "cells": [
  {
   "cell_type": "markdown",
   "metadata": {},
   "source": [
    "# Using Selenium for Advanced Web Crawling\n",
    "               \n",
    "   #### By Miriam Rodriguez\n",
    "\n"
   ]
  },
  {
   "cell_type": "markdown",
   "metadata": {},
   "source": [
    "## In this tutorial, we will be capturing data with Selenium."
   ]
  },
  {
   "cell_type": "markdown",
   "metadata": {},
   "source": [
    "## Selenium"
   ]
  },
  {
   "cell_type": "markdown",
   "metadata": {},
   "source": [
    "Selenium is a powerful framework designed to automate testing for web applications. It provides a way for developers to write tests in a number of programming languages such as C#, Java, Python, Ruby, etc. The tests can run against most web browsers such as Chrome, IE and Firefox.  "
   ]
  },
  {
   "cell_type": "markdown",
   "metadata": {},
   "source": [
    "Selenium automates browsers. Out of the box Selenium allows one to open a web browser, go to a page, and do any action a human could do (clicking button, filling in forms, etc), in addition to the base task of parsing html for information."
   ]
  },
  {
   "cell_type": "markdown",
   "metadata": {},
   "source": [
    "## 1. Install Selenium (Windows):"
   ]
  },
  {
   "cell_type": "markdown",
   "metadata": {},
   "source": [
    "For the purposes of this tutorial, we will focus on the Windows setup.\n",
    "\n",
    "Using the command prompt:\n",
    "\n",
    "- pip install selenium\n",
    "\n",
    "To upgrade the currently installed Selenium Webdriver package: \n",
    "    \n",
    "- pip install -U selenium    \n",
    "\n"
   ]
  },
  {
   "cell_type": "markdown",
   "metadata": {},
   "source": [
    "## 2. How to Set Webdrivers for Selenium (Windows)\n",
    "\n",
    "### Firefox: \n",
    "driver = webdriver.Firefox()\n",
    "\n",
    "### iPhone:\n",
    "driver = webdriver.Remote(browser_name=\"iphone\", command_executor='http://172.24.101.36:3001/hub')\n",
    " \n",
    "### Android:\n",
    "driver = webdriver.Remote(browser_name=\"android\", command_executor='http://127.0.0.1:8080/hub')\n",
    "\n",
    "### Google Chrome: \n",
    "For Selenium to utilize Chrome, the driver has to be downloaded. \n",
    "\n",
    "Download Chrome Driver from:\n",
    "\n",
    "http://chromedriver.storage.googleapis.com/2.9/chromedriver_win32.zip or \n",
    "https://sites.google.com/a/chromium.org/chromedriver/downloads\n",
    "\n",
    "Paste the chromedriver.exe file in \"C:\\Python27\\Scripts\" Folder (or anywhere that you wish, just make sure you point to it when setting the driver).\n",
    "\n",
    "The Chrome webdriver can be represented in one of the following formats:\n",
    "\n",
    "- driver = webdriver.Chrome(executable_path=r\"C:\\Python27\\Scripts\\chromedriver.exe\")\n",
    "\n",
    "If you do not want to use a raw string you can escape the slash as \\\\:\n",
    "\n",
    "- driver = webdriver.Chrome(executable_path=\"C:\\\\Python27\\\\Scripts\\\\chromedriver.exe\")\n",
    "\n",
    "Or replace the \\ with a /, you will get this:\n",
    "\n",
    "- driver = webdriver.Chrome(executable_path=\"C:/Chrome/chromedriver.exe\")"
   ]
  },
  {
   "cell_type": "code",
   "execution_count": 33,
   "metadata": {},
   "outputs": [],
   "source": [
    "from selenium import webdriver\n",
    "%matplotlib inline\n",
    "import time,re,json,numpy as np\n",
    "import pandas as pd\n",
    "import matplotlib.pyplot as plt \n",
    "\n"
   ]
  },
  {
   "cell_type": "code",
   "execution_count": 34,
   "metadata": {},
   "outputs": [],
   "source": [
    "#Set the options and set the arguments for chromium to work on selenium\n",
    "options = webdriver.ChromeOptions()\n",
    "options.add_argument('--ignore-certificate-errors')\n",
    "options.add_argument(\"--test-type\")\n",
    "options.binary_location = \"/usr/bin/chromium\"\n",
    "options.add_argument(\"--no-sandbox\") #This make Chromium reachable\n",
    "options.add_argument(\"--no-default-browser-check\") #Overrides default choices\n",
    "options.add_argument(\"--no-first-run\")\n",
    "options.add_argument(\"--disable-default-apps\") \n",
    "\n"
   ]
  },
  {
   "cell_type": "markdown",
   "metadata": {},
   "source": [
    "### Here's an example of how Selenium can be used.  For this example we will obtain reviews from www.loudersound.com (formerly www.teamrock.com)"
   ]
  },
  {
   "cell_type": "markdown",
   "metadata": {},
   "source": [
    "## Scenario\n",
    "- start url for www.loudersound.com\n",
    "- go through the different Selenium commands \n",
    "- additional applications will be added"
   ]
  },
  {
   "cell_type": "markdown",
   "metadata": {},
   "source": [
    "### For this tutorial we will use the Chrome driver"
   ]
  },
  {
   "cell_type": "markdown",
   "metadata": {},
   "source": [
    "#### The below will open up a Chrome browser.  It will indicate that it is controlled by automated test software."
   ]
  },
  {
   "cell_type": "code",
   "execution_count": 35,
   "metadata": {},
   "outputs": [],
   "source": [
    "# Set the Chrome driver\n",
    "driver = webdriver.Chrome(executable_path=\"C:/Python27/Scripts/chromedriver.exe\")\n"
   ]
  },
  {
   "cell_type": "markdown",
   "metadata": {},
   "source": [
    "#### This will open the below url"
   ]
  },
  {
   "cell_type": "code",
   "execution_count": 36,
   "metadata": {},
   "outputs": [],
   "source": [
    "# Start the URL. We are on the first page of the website.\n",
    "driver.get('http://loudersound.com/reviews/')"
   ]
  },
  {
   "cell_type": "code",
   "execution_count": 37,
   "metadata": {},
   "outputs": [
    {
     "data": {
      "text/plain": [
       "u'Reviews | Louder'"
      ]
     },
     "execution_count": 37,
     "metadata": {},
     "output_type": "execute_result"
    }
   ],
   "source": [
    "# Return the title\n",
    "# Good to use assert clause to make sure you are where you think you are\n",
    "driver.title"
   ]
  },
  {
   "cell_type": "code",
   "execution_count": 38,
   "metadata": {},
   "outputs": [
    {
     "data": {
      "text/plain": [
       "<selenium.webdriver.remote.webelement.WebElement (session=\"c4a39ce4baf2a3f89b7b063bd69d7b94\", element=\"0.11668459941225184-1\")>"
      ]
     },
     "execution_count": 38,
     "metadata": {},
     "output_type": "execute_result"
    }
   ],
   "source": [
    "# driver.find_element_by_link_text('Led Zeppelin')\n",
    "driver.find_element_by_partial_link_text('Led Zeppelin')"
   ]
  },
  {
   "cell_type": "code",
   "execution_count": 39,
   "metadata": {},
   "outputs": [],
   "source": [
    "# Add this method to click it! This will select the 'Led Zeppelin' article.\n",
    "driver.find_element_by_partial_link_text('Led Zeppelin').click()"
   ]
  },
  {
   "cell_type": "code",
   "execution_count": 40,
   "metadata": {},
   "outputs": [],
   "source": [
    "# Navigate back with the browser buttons. This will go back to the previous screen. \n",
    "driver.back()"
   ]
  },
  {
   "cell_type": "code",
   "execution_count": 41,
   "metadata": {},
   "outputs": [],
   "source": [
    "# Navigate forward with the browser buttons. This will go forward to the led Zeppelin screen.\n",
    "driver.forward()"
   ]
  },
  {
   "cell_type": "code",
   "execution_count": 42,
   "metadata": {},
   "outputs": [
    {
     "data": {
      "text/plain": [
       "True"
      ]
     },
     "execution_count": 42,
     "metadata": {},
     "output_type": "execute_result"
    }
   ],
   "source": [
    "# Save a screenshot in the directory you are in \n",
    "driver.save_screenshot('loudersound_shot.png')"
   ]
  },
  {
   "cell_type": "raw",
   "metadata": {},
   "source": [
    "# Pull code to machine\n",
    "driver.page_source"
   ]
  },
  {
   "cell_type": "raw",
   "metadata": {},
   "source": [
    "# Here are other commands that can be used: \n",
    ".find_element_by_id()\n",
    ".find_element_by_name()\n",
    ".find_element_by_xpath()\n",
    ".find_element_by_tag_name()\n",
    ".find_element_by_class_name()\n",
    ".find_element_by_css_selector()\n",
    "\n"
   ]
  },
  {
   "cell_type": "code",
   "execution_count": 43,
   "metadata": {},
   "outputs": [],
   "source": [
    "# close the webdriver when done\n",
    "driver.close()"
   ]
  },
  {
   "cell_type": "code",
   "execution_count": null,
   "metadata": {},
   "outputs": [],
   "source": []
  }
 ],
 "metadata": {
  "anaconda-cloud": {},
  "kernelspec": {
   "display_name": "Python [Root]",
   "language": "python",
   "name": "Python [Root]"
  },
  "language_info": {
   "codemirror_mode": {
    "name": "ipython",
    "version": 2
   },
   "file_extension": ".py",
   "mimetype": "text/x-python",
   "name": "python",
   "nbconvert_exporter": "python",
   "pygments_lexer": "ipython2",
   "version": "2.7.12"
  }
 },
 "nbformat": 4,
 "nbformat_minor": 1
}
